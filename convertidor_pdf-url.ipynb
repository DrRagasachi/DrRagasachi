{
  "nbformat": 4,
  "nbformat_minor": 0,
  "metadata": {
    "colab": {
      "provenance": [],
      "authorship_tag": "ABX9TyNSK8ReCfvThFERmnBYD7tO",
      "include_colab_link": true
    },
    "kernelspec": {
      "name": "python3",
      "display_name": "Python 3"
    },
    "language_info": {
      "name": "python"
    }
  },
  "cells": [
    {
      "cell_type": "markdown",
      "metadata": {
        "id": "view-in-github",
        "colab_type": "text"
      },
      "source": [
        "<a href=\"https://colab.research.google.com/github/DrRagasachi/DrRagasachi/blob/main/convertidor_pdf-url.ipynb\" target=\"_parent\"><img src=\"https://colab.research.google.com/assets/colab-badge.svg\" alt=\"Open In Colab\"/></a>"
      ]
    },
    {
      "cell_type": "code",
      "execution_count": 3,
      "metadata": {
        "colab": {
          "base_uri": "https://localhost:8080/"
        },
        "id": "L_25fd41V_kO",
        "outputId": "e7f07784-787d-4f35-d809-89f51297d9aa"
      },
      "outputs": [
        {
          "output_type": "stream",
          "name": "stdout",
          "text": [
            "Requirement already satisfied: requests in /usr/local/lib/python3.11/dist-packages (2.32.3)\n",
            "Requirement already satisfied: tabula-py in /usr/local/lib/python3.11/dist-packages (2.10.0)\n",
            "Requirement already satisfied: pandas in /usr/local/lib/python3.11/dist-packages (2.2.2)\n",
            "Collecting jpype1\n",
            "  Downloading jpype1-1.5.2-cp311-cp311-manylinux_2_17_x86_64.manylinux2014_x86_64.whl.metadata (4.9 kB)\n",
            "Requirement already satisfied: charset-normalizer<4,>=2 in /usr/local/lib/python3.11/dist-packages (from requests) (3.4.1)\n",
            "Requirement already satisfied: idna<4,>=2.5 in /usr/local/lib/python3.11/dist-packages (from requests) (3.10)\n",
            "Requirement already satisfied: urllib3<3,>=1.21.1 in /usr/local/lib/python3.11/dist-packages (from requests) (2.3.0)\n",
            "Requirement already satisfied: certifi>=2017.4.17 in /usr/local/lib/python3.11/dist-packages (from requests) (2025.1.31)\n",
            "Requirement already satisfied: numpy>1.24.4 in /usr/local/lib/python3.11/dist-packages (from tabula-py) (1.26.4)\n",
            "Requirement already satisfied: distro in /usr/local/lib/python3.11/dist-packages (from tabula-py) (1.9.0)\n",
            "Requirement already satisfied: python-dateutil>=2.8.2 in /usr/local/lib/python3.11/dist-packages (from pandas) (2.8.2)\n",
            "Requirement already satisfied: pytz>=2020.1 in /usr/local/lib/python3.11/dist-packages (from pandas) (2025.1)\n",
            "Requirement already satisfied: tzdata>=2022.7 in /usr/local/lib/python3.11/dist-packages (from pandas) (2025.1)\n",
            "Requirement already satisfied: packaging in /usr/local/lib/python3.11/dist-packages (from jpype1) (24.2)\n",
            "Requirement already satisfied: six>=1.5 in /usr/local/lib/python3.11/dist-packages (from python-dateutil>=2.8.2->pandas) (1.17.0)\n",
            "Downloading jpype1-1.5.2-cp311-cp311-manylinux_2_17_x86_64.manylinux2014_x86_64.whl (494 kB)\n",
            "\u001b[2K   \u001b[90m━━━━━━━━━━━━━━━━━━━━━━━━━━━━━━━━━━━━━━━━\u001b[0m \u001b[32m494.1/494.1 kB\u001b[0m \u001b[31m4.6 MB/s\u001b[0m eta \u001b[36m0:00:00\u001b[0m\n",
            "\u001b[?25hInstalling collected packages: jpype1\n",
            "Successfully installed jpype1-1.5.2\n"
          ]
        }
      ],
      "source": [
        "!pip install requests tabula-py pandas jpype1"
      ]
    },
    {
      "cell_type": "code",
      "source": [
        "# Importa las bibliotecas\n",
        "import requests\n",
        "import pandas as pd\n",
        "import tabula\n",
        "import os\n",
        "\n",
        "def pdf_a_dataframe(url):\n",
        "    \"\"\"\n",
        "    Descarga un PDF desde una URL, extrae las tablas y las combina en un único DataFrame.\n",
        "\n",
        "    Parámetros:\n",
        "        url (str): La URL del archivo PDF.\n",
        "\n",
        "    Retorna:\n",
        "        pd.DataFrame: Un DataFrame con todas las tablas combinadas. Si no se encuentran tablas o hay un error, retorna un DataFrame vacío.\n",
        "    \"\"\"\n",
        "    try:\n",
        "        # Descarga el PDF desde la URL\n",
        "        respuesta = requests.get(url)\n",
        "        respuesta.raise_for_status()  # Lanza una excepción si hay un error HTTP\n",
        "\n",
        "        # Guarda el PDF en un archivo temporal\n",
        "        with open(\"temp.pdf\", \"wb\") as archivo:\n",
        "            archivo.write(respuesta.content)\n",
        "\n",
        "        # Extrae las tablas del archivo PDF\n",
        "        tablas = tabula.read_pdf(\"temp.pdf\", pages='all')\n",
        "\n",
        "        # Si no se encuentran tablas, retorna un DataFrame vacío\n",
        "        if not tablas:\n",
        "            print(\"No se encontraron tablas en el PDF.\")\n",
        "            return pd.DataFrame()\n",
        "\n",
        "        # Inicializa un DataFrame vacío para almacenar las tablas combinadas\n",
        "        dataframe_combinado = pd.DataFrame()\n",
        "\n",
        "        # Combina todas las tablas en un único DataFrame\n",
        "        for tabla in tablas:\n",
        "            df = tabla.copy()\n",
        "            dataframe_combinado = pd.concat([dataframe_combinado, df], ignore_index=True)\n",
        "\n",
        "        # Elimina el archivo temporal\n",
        "        os.remove(\"temp.pdf\")\n",
        "\n",
        "        return dataframe_combinado\n",
        "\n",
        "    except requests.exceptions.RequestException as e:\n",
        "        print(f\"Error al descargar el PDF: {e}\")\n",
        "        return pd.DataFrame()\n",
        "    except Exception as e:\n",
        "        print(f\"Error al procesar el PDF: {e}\")\n",
        "        return pd.DataFrame()\n",
        "\n",
        "# URL del archivo PDF que deseas convertir\n",
        "url_pdf = 'https://drive.google.com/file/d/1-IBIorkwi2GD0i_D4IQrOIJHeClK8FkF/view?usp=drive_link'\n",
        "\n",
        "# Llama a la función para convertir el PDF en un DataFrame\n",
        "dataframe_combinado = pdf_a_dataframe(url_pdf)\n",
        "\n",
        "# Verifica el resultado\n",
        "if not dataframe_combinado.empty:\n",
        "    print(\"Datos extraídos correctamente:\")\n",
        "    print(dataframe_combinado.head())  # Muestra las primeras filas del DataFrame\n",
        "\n",
        "    # Guarda el DataFrame en un archivo Excel\n",
        "    nombre_archivo = \"resultados.xlsx\"\n",
        "    dataframe_combinado.to_excel(nombre_archivo, index=False)\n",
        "    print(f\"El archivo '{nombre_archivo}' se ha guardado correctamente.\")\n",
        "\n",
        "    # Descarga el archivo Excel desde Colab\n",
        "    from google.colab import files\n",
        "    files.download(nombre_archivo)\n",
        "else:\n",
        "    print(\"No se pudo extraer ningún dato del PDF.\")"
      ],
      "metadata": {
        "colab": {
          "base_uri": "https://localhost:8080/"
        },
        "id": "2f2hIfZoWGlZ",
        "outputId": "97fa30d8-6b9d-484e-9445-4b95afb9bfe5"
      },
      "execution_count": 6,
      "outputs": [
        {
          "output_type": "stream",
          "name": "stdout",
          "text": [
            "Error al descargar el PDF: 401 Client Error: Unauthorized for url: https://drive.google.com/file/d/1-IBIorkwi2GD0i_D4IQrOIJHeClK8FkF/view?usp=drive_link\n",
            "No se pudo extraer ningún dato del PDF.\n"
          ]
        }
      ]
    }
  ]
}